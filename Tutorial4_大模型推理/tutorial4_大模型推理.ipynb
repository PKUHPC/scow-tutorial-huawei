{
 "cells": [
  {
   "cell_type": "markdown",
   "metadata": {},
   "source": [
    "# Tutorial4: 大模型推理\n",
    "\n",
    "本节旨在使用 [cpm-bee-2b](https://huggingface.co/openbmb/cpm-bee-2b) 模型展示大模型推理。\n",
    "\n",
    "分以下几步来实现：\n",
    "1. 环境安装\n",
    "2. 下载模型\n",
    "3. 模型推理"
   ]
  },
  {
   "cell_type": "markdown",
   "metadata": {},
   "source": [
    "## 1. 环境安装\n",
    "\n",
    "我们默认用户已经按照 [tutorial_scow_for_ai](../tutorial_scow_for_ai.md) 在 “交互式应用” 中创建了  Jupyter Lab 应用，并已经安装了 conda。现在需要在命令行中创建环境并注册 ipykernal：\n",
    "\n",
    "```bash\n",
    "conda create --name cpm-bee python=3.9\n",
    "conda activate cpm-bee\n",
    "# 安装内核\n",
    "conda install ipykernel\n",
    "# 注册内核\n",
    "python -m ipykernel install --user --name=cpm-bee --display-name=\"cpm-bee\"\n",
    "conda install pytorch torchvision torchaudio pytorch-cuda=12.1 -c pytorch -c nvidia\n",
    "pip install deepspeed accelerate==0.30.1 transformers==4.33.2\n",
    "```\n",
    "\n",
    "（ pytorch 版本需与 cuda 版本对应，请查看版本对应网站：https://pytorch.org/get-started/previous-versions ，通过 nvidia-smi 命令可查看 cuda 版本）\n",
    "\n",
    "打开本 .ipynb 文件并选择 kernel 为 cpm-bee。硬件资源建议使用1张GPU运行。\n",
    "\n",
    "CUDA Version: 12.1; Torch Version: 2.3.1"
   ]
  },
  {
   "cell_type": "markdown",
   "metadata": {},
   "source": [
    "## 2. 下载模型\n",
    "\n",
    "在联网的命令行中执行以下命令，命令执行位置在当前文件所在的文件夹。\n",
    "\n",
    "```bash\n",
    "export HF_ENDPOINT=https://hf-mirror.com # 设置代理，如果可以直接访问则不需要设置代理\n",
    "huggingface-cli download --resume-download openbmb/cpm-bee-2b --local-dir cpm-bee-2b\n",
    "```"
   ]
  },
  {
   "cell_type": "markdown",
   "metadata": {},
   "source": [
    "## 3. 模型推理\n",
    "\n",
    "CPM-Bee 是一个完全开源、可商用的中英双语基础模型，拥有一百亿参数的容量。我们这里选用的是较小参数的 cpm-bee-2b 模型，下面展示加载 cmp-bee-2b 模型进行中翻英任务并统计生成速度的过程。\n",
    "\n",
    "推理过程中使用 nvidia-smi 命令可以查看 GPU 运行情况。"
   ]
  },
  {
   "cell_type": "code",
   "execution_count": null,
   "metadata": {},
   "outputs": [],
   "source": [
    "from transformers import AutoModelForCausalLM, AutoTokenizer\n",
    "import torch\n",
    "import time\n",
    "\n",
    "# 模型路径\n",
    "model_path = \"cpm-bee-2b\"\n",
    "\n",
    "# 硬件\n",
    "if torch.cuda.is_available():\n",
    "    print(f\"Using GPU: {torch.cuda.get_device_name(0)}\")\n",
    "else:\n",
    "    print(\"No GPU available, using CPU instead.\")\n",
    "\n",
    "# 分词器\n",
    "tokenizer = AutoTokenizer.from_pretrained(model_path, trust_remote_code=True)\n",
    "\n",
    "# 模型\n",
    "model = AutoModelForCausalLM.from_pretrained(\n",
    "    model_path, \n",
    "    torch_dtype=torch.float16,\n",
    "    trust_remote_code=True\n",
    ").cuda()\n",
    "\n",
    "# 生成\n",
    "start_time = time.time()\n",
    "res = model.generate(\n",
    "    {\"input\": \"NGC 6231是一个位于天蝎座的疏散星团，天球座标为赤经16时54分，赤纬-41度48分，视觉观测大小约45角分，亮度约2.6视星等，距地球5900光年。NGC 6231年龄约为三百二十万年，是一个非常年轻的星团，星团内的最亮星是5等的天蝎座 ζ1星。用双筒望远镜或小型望远镜就能看到个别的行星。NGC 6231在1654年被意大利天文学家乔瓦尼·巴蒂斯特·霍迪尔纳（Giovanni Battista Hodierna）以Luminosae的名字首次纪录在星表中，但是未见记载于夏尔·梅西耶的天体列表和威廉·赫歇尔的深空天体目录。这个天体在1678年被爱德蒙·哈雷（I.7）、1745年被夏西亚科斯（Jean-Phillippe Loys de Cheseaux）（9）、1751年被尼可拉·路易·拉卡伊（II.13）分别再次独立发现。\", \"prompt\": \"中翻英\", \"<ans>\": \"\"},\n",
    "    tokenizer,\n",
    "    max_new_tokens=1000,\n",
    "    min_length=50,\n",
    ")\n",
    "end_time = time.time()\n",
    "\n",
    "# calculate speed\n",
    "num_generated_tokens = 0\n",
    "for output in res:\n",
    "    text = output['<ans>']\n",
    "    tokens = tokenizer(text, return_tensors='pt')[\"input_ids\"]\n",
    "    num_tokens = tokens.shape[1]\n",
    "    num_generated_tokens += num_tokens\n",
    "time_taken = end_time - start_time\n",
    "tokens_per_second = num_generated_tokens / time_taken\n",
    "print(f\"Generated {num_generated_tokens} tokens in {time_taken:.2f} seconds ({tokens_per_second:.2f} tokens/second)\")\n",
    "\n",
    "print(res[0]['<ans>'])"
   ]
  },
  {
   "cell_type": "markdown",
   "metadata": {},
   "source": [
    "---\n",
    "\n",
    "> 作者: 黎颖; 龙汀汀\n",
    ">\n",
    "> 联系方式: yingliclaire@pku.edu.cn;   l.tingting@pku.edu.cn"
   ]
  }
 ],
 "metadata": {
  "language_info": {
   "name": "python"
  }
 },
 "nbformat": 4,
 "nbformat_minor": 2
}
