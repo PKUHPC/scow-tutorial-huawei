{
 "cells": [
  {
   "cell_type": "markdown",
   "metadata": {},
   "source": [
    "# Tutorial4: 大模型推理\n",
    "\n",
    "本节旨在使用 [cpm-bee-2b](https://huggingface.co/openbmb/cpm-bee-2b) 模型展示大模型推理。\n",
    "\n",
    "分以下几步来实现：\n",
    "1. 环境安装\n",
    "2. 下载模型\n",
    "3. 模型推理"
   ]
  },
  {
   "cell_type": "markdown",
   "metadata": {},
   "source": [
    "## 1. 环境安装\n",
    "\n",
    "请确保已经执行了 [tutorial_scow_for_ai](../tutorial_scow_for_ai.md) 中的\"安装依赖、注册ipykernel\"。\n",
    "\n",
    "建议使用1张910B NPU运行本教程。"
   ]
  },
  {
   "cell_type": "markdown",
   "metadata": {},
   "source": [
    "## 2. 下载模型\n",
    "\n",
    "在联网的命令行中执行以下命令，命令执行位置在当前文件所在的文件夹。\n",
    "\n",
    "```bash\n",
    "export HF_ENDPOINT=https://hf-mirror.com\n",
    "huggingface-cli download --resume-download openbmb/cpm-bee-2b --local-dir cpm-bee-2b\n",
    "```"
   ]
  },
  {
   "cell_type": "markdown",
   "metadata": {},
   "source": [
    "## 3. 模型推理\n",
    "\n",
    "CPM-Bee 是一个完全开源、可商用的中英双语基础模型，拥有一百亿参数的容量。我们这里选用的是较小参数的 cpm-bee-2b 模型，下面展示加载 cmp-bee-2b 模型进行中翻英任务并统计生成速度的过程。\n",
    "\n",
    "推理过程中使用 npu-smi info 命令可以查看 NPU 运行情况。"
   ]
  },
  {
   "cell_type": "code",
   "execution_count": null,
   "metadata": {},
   "outputs": [],
   "source": [
    "from transformers import AutoModelForCausalLM, AutoTokenizer\n",
    "import torch\n",
    "import time\n",
    "import torch_npu\n",
    "# 模型路径\n",
    "model_path = \"cpm-bee-2b\"\n",
    "\n",
    "# 硬件\n",
    "device = torch.device('npu:0') if torch.npu.is_available() \\\n",
    "    else torch.device('cpu')\n",
    "\n",
    "# 分词器\n",
    "tokenizer = AutoTokenizer.from_pretrained(\n",
    "    model_path, trust_remote_code=True)\n",
    "\n",
    "# 模型\n",
    "model = AutoModelForCausalLM.from_pretrained(\n",
    "    model_path, \n",
    "    torch_dtype=torch.float16,\n",
    "    trust_remote_code=True\n",
    ").to(device)\n",
    "\n",
    "# 生成\n",
    "start_time = time.time()\n",
    "res = model.generate(\n",
    "    {\"input\": \"NGC 6231是一个位于天蝎座的疏散星团，天球座标为赤经16时54分，\"\n",
    "     \"赤纬-41度48分，视觉观测大小约45角分，亮度约2.6视星等，距地球5900光年。\"\n",
    "     \"NGC 6231年龄约为三百二十万年，是一个非常年轻的星团，\"\n",
    "     \"星团内的最亮星是5等的天蝎座 ζ1星。用双筒望远镜或小型望远镜就能看到个别的行星。\"\n",
    "     \"NGC 6231在1654年被意大利天文学家乔瓦尼·巴蒂斯特·霍迪尔纳\"\n",
    "     \"（Giovanni Battista Hodierna）以Luminosae的名字首次纪录在星表中，\"\n",
    "     \"但是未见记载于夏尔·梅西耶的天体列表和威廉·赫歇尔的深空天体目录。\"\n",
    "     \"这个天体在1678年被爱德蒙·哈雷（I.7）、1745年被夏西亚科斯\"\n",
    "     \"（Jean-Phillippe Loys de Cheseaux）（9）、1751年被尼可拉·路易·拉卡伊（II.13）\"\n",
    "     \"分别再次独立发现。\", \"prompt\": \"中翻英\", \"<ans>\": \"\"},\n",
    "    tokenizer,\n",
    "    max_new_tokens=1000,\n",
    "    min_length=50,\n",
    ")\n",
    "end_time = time.time()\n",
    "\n",
    "# calculate speed\n",
    "num_generated_tokens = 0\n",
    "for output in res:\n",
    "    text = output['<ans>']\n",
    "    tokens = tokenizer(text, return_tensors='pt')[\"input_ids\"]\n",
    "    num_tokens = tokens.shape[1]\n",
    "    num_generated_tokens += num_tokens\n",
    "time_taken = end_time - start_time\n",
    "tokens_per_second = num_generated_tokens / time_taken\n",
    "print(f\"Generated {num_generated_tokens} tokens in {time_taken:.2f}\" +\\\n",
    "      f\" seconds ({tokens_per_second:.2f} tokens/second)\")\n",
    "\n",
    "print(res[0]['<ans>'])"
   ]
  },
  {
   "cell_type": "markdown",
   "metadata": {},
   "source": [
    "---\n",
    "\n",
    "> 作者: 黎颖; 褚苙扬; 龙汀汀\n",
    ">\n",
    "> 联系方式: yingliclaire@pku.edu.cn; cly2412307718@stu.pku.edu.cn; l.tingting@pku.edu.cn"
   ]
  }
 ],
 "metadata": {
  "kernelspec": {
   "display_name": "tutorial",
   "language": "python",
   "name": "python3"
  },
  "language_info": {
   "codemirror_mode": {
    "name": "ipython",
    "version": 3
   },
   "file_extension": ".py",
   "mimetype": "text/x-python",
   "name": "python",
   "nbconvert_exporter": "python",
   "pygments_lexer": "ipython3",
   "version": "3.9.21"
  }
 },
 "nbformat": 4,
 "nbformat_minor": 2
}
