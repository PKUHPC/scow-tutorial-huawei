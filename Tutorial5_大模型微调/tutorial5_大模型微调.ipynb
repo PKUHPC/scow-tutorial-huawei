{
 "cells": [
  {
   "cell_type": "markdown",
   "metadata": {},
   "source": [
    "# Tutorial5: 大模型微调\n",
    "\n",
    "本节旨在使用 Hugging Face 官方发布的 bert-base-uncased 模型展示大模型微调的过程。\n",
    "\n",
    "分以下几步来实现：\n",
    "1. 环境安装\n",
    "2. 加载模型和数据\n",
    "3. 模型微调"
   ]
  },
  {
   "cell_type": "markdown",
   "metadata": {},
   "source": [
    "## 1. 环境安装\n",
    "\n",
    "我们默认用户已经按照 [tutorial_scow_for_ai](../tutorial_scow_for_ai.md) 在 “交互式应用” 中创建了  Jupyter Lab 应用，并已经安装了 conda。现在需要在命令行中创建环境并注册 ipykernal：\n",
    "\n",
    "```bash\n",
    "conda create --name finetune python=3.9\n",
    "conda activate finetune\n",
    "# 安装内核\n",
    "conda install ipykernel\n",
    "# 注册内核\n",
    "python -m ipykernel install --user --name=finetune --display-name=\"finetune\"\n",
    "conda install pytorch torchvision torchaudio pytorch-cuda=12.1 -c pytorch -c nvidia\n",
    "pip install datasets evaluate scipy scikit-learn transformers\n",
    "```\n",
    "\n",
    "（ pytorch 版本需与 cuda 版本对应，请查看版本对应网站：https://pytorch.org/get-started/previous-versions ，通过 nvidia-smi 命令可查看 cuda 版本）\n",
    "\n",
    "打开本 .ipynb 文件并选择 kernel 为 finetune。硬件资源建议使用1张GPU运行。\n",
    "\n",
    "CUDA Version: 12.1; Torch Version: 2.3.1"
   ]
  },
  {
   "cell_type": "markdown",
   "metadata": {},
   "source": [
    "## 2. 加载模型和数据\n",
    "\n",
    "我们预先上传了模型和数据，使用路径可以直接加载。使用的数据为 MRPC（Microsoft Research Paraphrase Corpus），该数据集包含 5,801 对句子，并带有标签，表明两个句子的意思是否相同。"
   ]
  },
  {
   "cell_type": "code",
   "execution_count": null,
   "metadata": {},
   "outputs": [],
   "source": [
    "from transformers import AutoModelForSequenceClassification\n",
    "\n",
    "# 加载模型\n",
    "model = AutoModelForSequenceClassification.from_pretrained(\"model\", num_labels=2)"
   ]
  },
  {
   "cell_type": "code",
   "execution_count": null,
   "metadata": {},
   "outputs": [],
   "source": [
    "from datasets import load_dataset\n",
    "from transformers import AutoTokenizer\n",
    "\n",
    "# 加载数据\n",
    "raw_datasets = load_dataset('data')\n",
    "\n",
    "# 分词，使用 .map 方法为数据集添加 token 相关的 key\n",
    "tokenizer = AutoTokenizer.from_pretrained(\"model\")\n",
    "def tokenize_function(example):\n",
    "    return tokenizer(example[\"sentence1\"], example[\"sentence2\"], truncation=True)\n",
    "tokenized_datasets = raw_datasets.map(tokenize_function, batched=True)\n",
    "\n",
    "# 数据处理，去除不相关的 key，重命名 label key\n",
    "tokenized_datasets = tokenized_datasets.remove_columns([\"sentence1\", \"sentence2\", \"idx\"])\n",
    "tokenized_datasets = tokenized_datasets.rename_column(\"label\", \"labels\")"
   ]
  },
  {
   "cell_type": "markdown",
   "metadata": {},
   "source": [
    "## 3. 模型微调\n",
    "\n",
    "我们这里使用的是一张 NVIDIA GeForce RTX 3090 24G 显卡进行微调。本节参考资料：[[链接]](https://huggingface.co/learn/nlp-course/chapter3/4?fw=pt)\n",
    "\n",
    "微调过程中使用 nvidia-smi 命令可以查看 GPU 运行情况。\n",
    "\n",
    "由于网络问题，需要先在命令行中执行以下命令：\n",
    "\n",
    "```bash\n",
    "export HF_ENDPOINT=https://hf-mirror.com\n",
    "python -c \"import evaluate; metric = evaluate.load('glue', 'mrpc'); print(metric)\"\n",
    "```"
   ]
  },
  {
   "cell_type": "code",
   "execution_count": null,
   "metadata": {},
   "outputs": [],
   "source": [
    "from torch.utils.data import DataLoader\n",
    "from transformers import AdamW, get_scheduler, DataCollatorWithPadding\n",
    "import torch\n",
    "from tqdm.auto import tqdm\n",
    "import os\n",
    "import evaluate\n",
    "import numpy as np\n",
    "\n",
    "\n",
    "# 指定 batch_size\n",
    "data_collator = DataCollatorWithPadding(tokenizer=tokenizer) # 按照 batch 中最大的长度自动填充 padding\n",
    "train_dataloader = DataLoader(\n",
    "    tokenized_datasets[\"train\"], shuffle=True, batch_size=8, collate_fn=data_collator\n",
    ")\n",
    "eval_dataloader = DataLoader(\n",
    "    tokenized_datasets[\"validation\"], batch_size=8, collate_fn=data_collator\n",
    ")\n",
    "\n",
    "# 硬件\n",
    "device = torch.device(\"cuda\") if torch.cuda.is_available() else torch.device(\"cpu\")\n",
    "model.to(device)\n",
    "\n",
    "# 训练参数\n",
    "optimizer = AdamW(model.parameters(), lr=5e-5)\n",
    "num_epochs = 3\n",
    "num_training_steps = num_epochs * len(train_dataloader)\n",
    "lr_scheduler = get_scheduler(\n",
    "    \"linear\",\n",
    "    optimizer=optimizer,\n",
    "    num_warmup_steps=0,\n",
    "    num_training_steps=num_training_steps,\n",
    ")\n",
    "\n",
    "# 评估函数\n",
    "metric = evaluate.load(\"glue\", \"mrpc\")\n",
    "def compute_eval(model, eval_dataloader, device, metric=metric):\n",
    "    model.eval()\n",
    "    for batch in eval_dataloader:\n",
    "        batch = {k: v.to(device) for k, v in batch.items()}\n",
    "        with torch.no_grad():\n",
    "            outputs = model(**batch)\n",
    "            logits = outputs.logits\n",
    "            predictions = torch.argmax(logits, dim=-1)\n",
    "            metric.add_batch(predictions=predictions, references=batch[\"labels\"])\n",
    "    \n",
    "    eval_result = metric.compute()\n",
    "    \n",
    "    return eval_result\n",
    "\n",
    "# 训练过程\n",
    "progress_bar = tqdm(range(num_training_steps))\n",
    "\n",
    "for epoch in range(num_epochs):\n",
    "    model.train()\n",
    "    for batch_idx, batch in enumerate(train_dataloader):\n",
    "    \n",
    "        # 前向传播\n",
    "        batch = {k: v.to(device) for k, v in batch.items()}\n",
    "        outputs = model(**batch)\n",
    "        loss = outputs.loss\n",
    "        \n",
    "        # 反向传播\n",
    "        optimizer.zero_grad()\n",
    "        loss.backward()\n",
    "        \n",
    "        # 更新参数\n",
    "        optimizer.step()\n",
    "        lr_scheduler.step()\n",
    "        \n",
    "        progress_bar.update(1)\n",
    "        \n",
    "        if (batch_idx + 1) % 100 == 0:\n",
    "            print(f\"Epoch {epoch}, Batch {batch_idx}, Loss: {loss.item():.4f}\")\n",
    "    \n",
    "    print(f\"Epoch {epoch}: eval metric --> {compute_eval(model, eval_dataloader, device)}\")"
   ]
  },
  {
   "cell_type": "code",
   "execution_count": null,
   "metadata": {},
   "outputs": [],
   "source": [
    "# 保存模型\n",
    "model.save_pretrained('model_trained')"
   ]
  },
  {
   "cell_type": "markdown",
   "metadata": {},
   "source": [
    "---\n",
    "\n",
    "> 作者: 黎颖; 龙汀汀\n",
    ">\n",
    "> 联系方式: yingliclaire@pku.edu.cn;   l.tingting@pku.edu.cn"
   ]
  }
 ],
 "metadata": {
  "kernelspec": {
   "display_name": "base",
   "language": "python",
   "name": "python3"
  },
  "language_info": {
   "name": "python",
   "version": "3.11.5"
  }
 },
 "nbformat": 4,
 "nbformat_minor": 2
}
