{
 "cells": [
  {
   "cell_type": "markdown",
   "metadata": {},
   "source": [
    "# Tutorial2: 图像分类1\n",
    "\n",
    "可在SCOW HPC集群运行本教程，也可在SCOW AI集群运行。\n",
    "\n",
    "本节旨在展示使用CNN进行图像分类的简单案例，使用MNIST数据集和一个规模较小的简单CNN网络。\n",
    "\n",
    "分以下几步来实现：\n",
    "1. 环境安装\n",
    "2. 分步运行本文件\n",
    "\n",
    "    2.1 数据加载和预处理\n",
    "\n",
    "    2.2 定义 CNN 模型\n",
    "\n",
    "    2.3 训练与评估"
   ]
  },
  {
   "cell_type": "markdown",
   "metadata": {},
   "source": [
    "## 1. 环境安装\n",
    " \n",
    "请确保已经执行了 [tutorial_scow_for_ai](../tutorial_scow_for_ai.md) 中的\"安装依赖、注册ipykernel\"。\n",
    "\n",
    "建议使用1张910B NPU运行本教程。"
   ]
  },
  {
   "cell_type": "markdown",
   "metadata": {},
   "source": [
    "## 2. 分步运行本文件"
   ]
  },
  {
   "cell_type": "markdown",
   "metadata": {},
   "source": [
    "### 2.1 数据预处理\n",
    "\n",
    "MNIST 是一个手写数字数据集，包含了数字0到9的灰度图像。"
   ]
  },
  {
   "cell_type": "markdown",
   "metadata": {},
   "source": [
    "~~~bash\n",
    "# 解压MNIST数据集\n",
    "cd scow-for-ai-tutorial-ascend/Tutorial2_classification/\n",
    "tar -xzvf data.tar.gz\n",
    "~~~"
   ]
  },
  {
   "cell_type": "code",
   "execution_count": null,
   "metadata": {},
   "outputs": [],
   "source": [
    "import torchvision.transforms as transforms\n",
    "import torchvision.datasets as datasets\n",
    "\n",
    "# 定义数据转换方式: 标准化\n",
    "transform = transforms.Compose([\n",
    "    transforms.ToTensor(),  # 将图像转换为 PyTorch 张量\n",
    "    transforms.Normalize((0.5,), (0.5,))  # 标准化（均值0.5，标准差0.5）\n",
    "])\n",
    "\n",
    "# 加载训练集和测试集\n",
    "train_dataset = datasets.MNIST('./data', train=True, transform=transform)\n",
    "test_dataset = datasets.MNIST('./data', train=False, transform=transform)\n"
   ]
  },
  {
   "cell_type": "markdown",
   "metadata": {},
   "source": [
    "## 2.2 定义 CNN 模型"
   ]
  },
  {
   "cell_type": "code",
   "execution_count": null,
   "metadata": {},
   "outputs": [],
   "source": [
    "\n",
    "import torch.nn as nn\n",
    "\n",
    "class CNN(nn.Module):\n",
    "    def __init__(self):\n",
    "        super(CNN, self).__init__()\n",
    "        # 卷积层：输入1通道，输出32通道，卷积核3x3，填充1\n",
    "        self.conv1 = nn.Conv2d(1, 16, kernel_size=3, padding=1)\n",
    "        self.conv2 = nn.Conv2d(16, 32, kernel_size=3, padding=1)\n",
    "        # 池化层：用于减小输出矩阵大小\n",
    "        self.mp = nn.MaxPool2d(kernel_size=2, stride=2)\n",
    "        self.fc1 = nn.Linear(32 * 7 * 7, 128)\n",
    "        self.fc2 = nn.Linear(128, 10)\n",
    "        self.relu = nn.ReLU()\n",
    "\n",
    "    def forward(self, x):\n",
    "        x = self.relu(self.mp(self.conv1(x)))\n",
    "        x = self.relu(self.mp(self.conv2(x)))\n",
    "        x = x.view(x.size(0), -1)  # 展平\n",
    "        x = self.relu(self.fc1(x))\n",
    "        x = self.fc2(x)\n",
    "        return x"
   ]
  },
  {
   "cell_type": "markdown",
   "metadata": {},
   "source": [
    "## 2.3 训练与评估\n",
    "\n",
    "完成模型训练和评估在 910B 加速卡上需要约 15 min"
   ]
  },
  {
   "cell_type": "code",
   "execution_count": null,
   "metadata": {
    "scrolled": true
   },
   "outputs": [],
   "source": [
    "from torch.utils.data import DataLoader\n",
    "import torch\n",
    "import torch_npu\n",
    "import time\n",
    "from datetime import timedelta\n",
    "\n",
    "# 参数设置\n",
    "learning_rate, epochs, batch_size = 0.001, 3, 64\n",
    "if torch.npu.is_available():\n",
    "    device = torch.device('npu:0')\n",
    "else:\n",
    "    device = torch.device('cpu')\n",
    "print('device:', device)\n",
    "\n",
    "# 实例化模型\n",
    "model = CNN().to(device)\n",
    "\n",
    "# 损失函数\n",
    "criterion = nn.CrossEntropyLoss()\n",
    "\n",
    "# 优化器\n",
    "optimizer = torch.optim.Adam(model.parameters(), lr= learning_rate)\n",
    "\n",
    "# 评估函数\n",
    "def accuracy(model, data_loader, device):\n",
    "    total = 0\n",
    "    correct = 0\n",
    "    model.eval()\n",
    "    for X, y in data_loader:\n",
    "        X, y = X.to(device), y.to(device)\n",
    "        outputs = model(X)\n",
    "        _, predicted = torch.max(outputs.data, 1)\n",
    "        total += y.size(0)\n",
    "        correct += (predicted == y).sum().item()\n",
    "\n",
    "    return 100 * correct / total\n",
    "    \n",
    "# 数据准备\n",
    "train_loader = DataLoader(\n",
    "    dataset=train_dataset, batch_size=batch_size, shuffle=True)\n",
    "test_loader = DataLoader(\n",
    "    dataset=test_dataset, batch_size=batch_size, shuffle=False)\n",
    "\n",
    "# 训练模型\n",
    "train_ls = []\n",
    "train_acc, test_acc = [], []\n",
    "for epoch in range(epochs):\n",
    "    start_time = time.time()\n",
    "    model.train() \n",
    "    total_loss = 0\n",
    "    \n",
    "    for X, y in train_loader:\n",
    "        X, y = X.to(device), y.to(device)\n",
    "        \n",
    "        # 前向传播\n",
    "        outputs = model(X)\n",
    "        loss = criterion(outputs, y)\n",
    "        \n",
    "        # 反向传播和优化\n",
    "        optimizer.zero_grad()\n",
    "        loss.backward()\n",
    "        optimizer.step()\n",
    "        \n",
    "        # loss 记录\n",
    "        total_loss += loss.item()\n",
    "    average_loss = total_loss / len(train_loader)\n",
    "    train_ls.append(average_loss)\n",
    "        \n",
    "    # 模型评估\n",
    "    with torch.no_grad():\n",
    "        train_acc.append(accuracy(model, train_loader, device))\n",
    "        test_acc.append(accuracy(model, test_loader, device))\n",
    "    \n",
    "    # 计时\n",
    "    end_time = time.time()\n",
    "    print(f\"{epoch}/{epochs}: accuracy: {test_acc[-1]}\")\n",
    "    print(f\"time consuming: {timedelta(seconds=end_time - start_time)}\")"
   ]
  },
  {
   "cell_type": "markdown",
   "metadata": {},
   "source": [
    "训练过程中 Loss 一直在下降，本次训练中最高能达到 99% 的准确率，实际上通过改进模型和训练过程并进行数据增强，CNN训练MNIST数据集的准确率可以进一步提升。"
   ]
  },
  {
   "cell_type": "code",
   "execution_count": null,
   "metadata": {
    "scrolled": true
   },
   "outputs": [],
   "source": [
    "import matplotlib.pyplot as plt\n",
    "from matplotlib_inline import backend_inline\n",
    "\n",
    "backend_inline.set_matplotlib_formats('svg')\n",
    "\n",
    "plt.rcParams['figure.figsize'] = (4, 3)\n",
    "\n",
    "fig, ax1 = plt.subplots()\n",
    "\n",
    "# loss\n",
    "ax1.plot(list(range(1, epochs + 1)), train_ls, 'b-', label='train Loss')\n",
    "ax1.set_xlabel('Epoch')\n",
    "ax1.set_ylabel('Loss', color='b')\n",
    "ax1.tick_params(axis='y', labelcolor='b')\n",
    "ax1.set_yscale('log')\n",
    "ax1.set_xlim([1, epochs])\n",
    "\n",
    "# Accuracy\n",
    "ax2 = ax1.twinx()  \n",
    "ax2.plot(list(range(1, epochs + 1)),\n",
    "         train_acc, 'r-', label='train accuracy')\n",
    "ax2.plot(list(range(1, epochs + 1)),\n",
    "         test_acc, 'r--', label='test accuracy')\n",
    "ax2.set_ylabel('Accuracy (%)', color='r')\n",
    "ax2.tick_params(axis='y', labelcolor='r')\n",
    "\n",
    "fig.legend()"
   ]
  },
  {
   "cell_type": "markdown",
   "metadata": {},
   "source": [
    "---\n",
    "\n",
    "> 作者: 黎颖; 褚苙扬; 龙汀汀\n",
    ">\n",
    "> 联系方式: yingliclaire@pku.edu.cn; cly2412307718@stu.pku.edu.cn; l.tingting@pku.edu.cn"
   ]
  }
 ],
 "metadata": {
  "kernelspec": {
   "display_name": "tutorial",
   "language": "python",
   "name": "python3"
  },
  "language_info": {
   "codemirror_mode": {
    "name": "ipython",
    "version": 3
   },
   "file_extension": ".py",
   "mimetype": "text/x-python",
   "name": "python",
   "nbconvert_exporter": "python",
   "pygments_lexer": "ipython3",
   "version": "3.9.21"
  }
 },
 "nbformat": 4,
 "nbformat_minor": 4
}
