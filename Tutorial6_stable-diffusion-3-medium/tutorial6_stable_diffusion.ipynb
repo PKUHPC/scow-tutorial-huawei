{
 "cells": [
  {
   "cell_type": "markdown",
   "metadata": {},
   "source": [
    "# Tutorial6: Stable_diffusion\n",
    "\n",
    "本节旨在展示使用 [stable-diffusion-3-medium-diffusers](https://huggingface.co/stabilityai/stable-diffusion-3-medium-diffusers) 模型进行文生图任务。\n",
    "\n",
    "分以下几步来实现：\n",
    "1. 环境安装与应用创建\n",
    "2. 下载模型\n",
    "3. 文生图\n",
    "\n",
    "Stable Diffusion 是由 Stability AI 开发的一个开源的深度学习模型，用于生成高质量图像。"
   ]
  },
  {
   "cell_type": "markdown",
   "metadata": {},
   "source": [
    "## 1. 环境安装与应用创建\n",
    "\n",
    "我们默认用户已经按照 [tutorial_scow_for_ai](../tutorial_scow_for_ai.md) 在 “交互式应用” 中创建了  Jupyter Lab 应用，并已经安装了 conda。现在需要在命令行中创建环境并注册 ipykernal：\n",
    "\n",
    "```bash\n",
    "conda create -n tutorial6 python=3.9\n",
    "conda activate tutorial6\n",
    "# 安装内核\n",
    "conda install ipykernel\n",
    "# 注册内核\n",
    "python -m ipykernel install --user --name=tutorial6 --display-name=\"tutorial6\"\n",
    "\n",
    "conda install pytorch torchvision torchaudio pytorch-cuda=12.1 -c pytorch -c nvidia\n",
    "pip install numpy==1.26.4 matplotlib==3.8.4 transformers==4.42.4\n",
    "pip install -U diffusers\n",
    "```\n",
    "\n",
    "打开本 .ipynb 文件并选择 kernel 为 tutorial6。硬件资源为 1 张 A100 显卡。创建应用后, 进入应用并打开本文件。\n",
    "\n",
    "CUDA Version: 12.1; Torch Version: 2.3.1"
   ]
  },
  {
   "cell_type": "markdown",
   "metadata": {},
   "source": [
    "## 2. 下载模型\n",
    "\n",
    "在data shell 中执行，命令执行位置在当前文件所在的文件夹。\n",
    "\n",
    "```bash\n",
    "# 如果以下目录存在， 可以直接复制:\n",
    "cp -r /lustre/public/tutorial/models/models--stabilityai--stable-diffusion-3-medium-diffusers/ ./\n",
    "\n",
    "# 否则请下载, 其中 \"hf_***\" 是 huggingface 官网为每个用户提供的 token 序列\n",
    "export HF_ENDPOINT=https://hf-mirror.com\n",
    "huggingface-cli download --token hf_*** --resume-download stabilityai/stable-diffusion-3-medium --local-dir models--stabilityai--stable-diffusion-3-medium-diffusers\n",
    "```"
   ]
  },
  {
   "cell_type": "markdown",
   "metadata": {
    "vscode": {
     "languageId": "plaintext"
    }
   },
   "source": [
    "## 3. 文生图\n",
    "\n",
    "运行以下代码，从文字生成图像："
   ]
  },
  {
   "cell_type": "code",
   "execution_count": null,
   "metadata": {},
   "outputs": [],
   "source": [
    "import torch\n",
    "from diffusers import StableDiffusion3Pipeline\n",
    "\n",
    "# 加载模型\n",
    "pipe = StableDiffusion3Pipeline.from_pretrained(\"models\", torch_dtype=torch.float16)\n",
    "\n",
    "# 使用 GPU\n",
    "pipe = pipe.to(\"cuda\")\n",
    "\n",
    "# promt 内容，可以使用多个 prompt\n",
    "# prompt2 = \"Photorealistic\"\n",
    "prompt = \"Albert Einstein leans forward, holds a Qing dynasty fan. A butterfly lands on the blooming peonies in the garden. The fan is positioned above the butterfly. \"\n",
    "\n",
    "# 根据 prompt 生成多张图片\n",
    "for i in range(10):\n",
    "    image = pipe(\n",
    "            prompt=prompt,\n",
    "            # prompt_2=prompt2,\n",
    "            negative_prompt=\"ugly, deformed, disfigured, poor details, bad anatomy\",\n",
    "            num_inference_steps=70,\n",
    "            guidance_scale=7,\n",
    "            height=1024,\n",
    "            width=1024,\n",
    "        ).images[0]\n",
    "\n",
    "    image.save(f\"{i}.png\")"
   ]
  },
  {
   "cell_type": "markdown",
   "metadata": {},
   "source": [
    "生成的图像在本地目录下，可点击或下载查看。"
   ]
  },
  {
   "cell_type": "markdown",
   "metadata": {},
   "source": [
    "---\n",
    "\n",
    "> 作者: 黎颖; 龙汀汀\n",
    ">\n",
    "> 联系方式: yingliclaire@pku.edu.cn;   l.tingting@pku.edu.cn"
   ]
  }
 ],
 "metadata": {
  "kernelspec": {
   "display_name": "Python 3 (ipykernel)",
   "language": "python",
   "name": "python3"
  },
  "language_info": {
   "codemirror_mode": {
    "name": "ipython",
    "version": 3
   },
   "file_extension": ".py",
   "mimetype": "text/x-python",
   "name": "python",
   "nbconvert_exporter": "python",
   "pygments_lexer": "ipython3",
   "version": "3.9.19"
  }
 },
 "nbformat": 4,
 "nbformat_minor": 4
}
