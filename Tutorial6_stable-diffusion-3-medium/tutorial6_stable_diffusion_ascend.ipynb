{
 "cells": [
  {
   "cell_type": "markdown",
   "metadata": {},
   "source": [
    "# Tutorial6: Stable_diffusion\n",
    "\n",
    "本节旨在展示使用 [stable-diffusion-3-medium-diffusers](https://huggingface.co/stabilityai/stable-diffusion-3-medium-diffusers) 模型进行文生图任务。\n",
    "\n",
    "分以下几步来实现：\n",
    "1. 环境安装与应用创建\n",
    "2. 下载模型\n",
    "3. 文生图\n",
    "\n",
    "Stable Diffusion 是由 Stability AI 开发的一个开源的深度学习模型，用于生成高质量图像。"
   ]
  },
  {
   "cell_type": "markdown",
   "metadata": {},
   "source": [
    "## 1. 环境安装与应用创建\n",
    "\n",
    "请确保已经执行了 [tutorial_scow_for_ai](../tutorial_scow_for_ai.md) 中的\"安装依赖、注册ipykernel\"。\n",
    "\n",
    "建议使用1张910B NPU运行本教程。"
   ]
  },
  {
   "cell_type": "markdown",
   "metadata": {},
   "source": [
    "## 2. 下载模型\n",
    "\n",
    "请前往 huggingface 官网注册账号、同意模型使用协议 (https://huggingface.co/stabilityai/stable-diffusion-3-medium), 然后获取 access token (https://huggingface.co/settings/tokens) 用于后续下载\n",
    "\n",
    "```bash\n",
    "\n",
    "# 下载模型, 其中 \"hf_***\" 替换为自己的access token\n",
    "export HF_ENDPOINT=https://hf-mirror.com\n",
    "huggingface-cli download --token hf_*** --resume-download stabilityai/stable-diffusion-3-medium --local-dir stabilityai/stable-diffusion-3-medium-diffusers\n",
    "```"
   ]
  },
  {
   "cell_type": "markdown",
   "metadata": {
    "vscode": {
     "languageId": "plaintext"
    }
   },
   "source": [
    "## 3. 文生图\n",
    "\n",
    "运行以下代码，从文字生成图像："
   ]
  },
  {
   "cell_type": "code",
   "execution_count": null,
   "metadata": {},
   "outputs": [],
   "source": [
    "import torch\n",
    "import torch_npu\n",
    "from diffusers import StableDiffusion3Pipeline\n",
    "\n",
    "# 检查 NPU 是否可用\n",
    "device = torch.device(\"npu:0\") if torch.npu.is_available() else torch.device(\"cpu\")\n",
    "\n",
    "# 加载模型\n",
    "pipe = StableDiffusion3Pipeline.from_pretrained(\n",
    "    \"models--stabilityai--stable-diffusion-3-medium-diffusers\", \n",
    "    torch_dtype=torch.float16\n",
    ")\n",
    "\n",
    "# 使用 NPU\n",
    "pipe = pipe.to(device)\n",
    "\n",
    "# prompt 内容，可以使用多个 prompt\n",
    "# prompt2 = \"Photorealistic\"\n",
    "prompt = \"Albert Einstein leans forward, holds a Qing dynasty fan. A butterfly lands on the blooming peonies in the garden. The fan is positioned above the butterfly.\"\n",
    "\n",
    "# 根据 prompt 生成多张图片\n",
    "for i in range(10):\n",
    "    image = pipe(\n",
    "        prompt=prompt,\n",
    "        # prompt_2=prompt2,\n",
    "        negative_prompt=\"ugly, deformed, disfigured, poor details, bad anatomy\",\n",
    "        num_inference_steps=70,\n",
    "        guidance_scale=7,\n",
    "        height=1024,\n",
    "        width=1024,\n",
    "    ).images[0]\n",
    "\n",
    "    image.save(f\"{i}.png\")"
   ]
  },
  {
   "cell_type": "markdown",
   "metadata": {},
   "source": [
    "生成的图像在本地目录下，可点击或下载查看。"
   ]
  },
  {
   "cell_type": "markdown",
   "metadata": {},
   "source": [
    "---\n",
    "\n",
    "> 作者: 黎颖; 褚苙扬; 龙汀汀\n",
    ">\n",
    "> 联系方式: yingliclaire@pku.edu.cn; cly2412307718@stu.pku.edu.cn; l.tingting@pku.edu.cn"
   ]
  }
 ],
 "metadata": {
  "kernelspec": {
   "display_name": "Python 3 (ipykernel)",
   "language": "python",
   "name": "python3"
  },
  "language_info": {
   "codemirror_mode": {
    "name": "ipython",
    "version": 3
   },
   "file_extension": ".py",
   "mimetype": "text/x-python",
   "name": "python",
   "nbconvert_exporter": "python",
   "pygments_lexer": "ipython3",
   "version": "3.9.19"
  }
 },
 "nbformat": 4,
 "nbformat_minor": 4
}
