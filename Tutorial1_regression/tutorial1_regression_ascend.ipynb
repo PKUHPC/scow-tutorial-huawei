{
 "cells": [
  {
   "cell_type": "markdown",
   "metadata": {},
   "source": [
    "# Tutorial1: 房价预测\n",
    "\n",
    "本节旨在通过 [kaggle 房价预测竞赛](https://www.kaggle.com/competitions/house-prices-advanced-regression-techniques) 这一简单案例展示如何使用全连接神经网络解决回归问题。\n",
    "\n",
    "分以下几步来实现：\n",
    "1. 环境安装\n",
    "2. 分步运行本文件\n",
    "\n",
    "    2.1 数据加载和预处理\n",
    "\n",
    "    2.2 构建网络\n",
    "\n",
    "    2.3 训练与评估模型\n"
   ]
  },
  {
   "cell_type": "markdown",
   "metadata": {},
   "source": [
    "## 1. 环境安装\n",
    " \n",
    "请确保已经执行了 [tutorial_scow_for_ai](../tutorial_scow_for_ai.md) 中的\"安装依赖、注册ipykernel\"。\n",
    "\n",
    "建议使用1张910B NPU运行本教程。"
   ]
  },
  {
   "cell_type": "markdown",
   "metadata": {},
   "source": [
    "## 2. 分步运行本文件"
   ]
  },
  {
   "cell_type": "markdown",
   "metadata": {},
   "source": [
    "## 2.1 数据预处理\n",
    "作为简化模型的案例，这里使用的是 [kaggle 房价预测竞赛中的训练数据集](https://www.kaggle.com/competitions/house-prices-advanced-regression-techniques/data)。在后面的处理中，我们只使用了数值部分的特征，并把全部数据分为训练集和测试集两部分。\n",
    "\n",
    "实验所用数据: [train.csv](./data/train.csv)"
   ]
  },
  {
   "cell_type": "code",
   "execution_count": null,
   "metadata": {
    "scrolled": true
   },
   "outputs": [],
   "source": [
    "import pandas as pd\n",
    "import numpy as np\n",
    "from sklearn.model_selection import train_test_split\n",
    "from sklearn.preprocessing import StandardScaler\n",
    "import torch\n",
    "import torch_npu\n",
    "\n",
    "# 读取数据\n",
    "# VAR_PLACEHOLDER\n",
    "data = pd.read_csv('./data/train.csv')\n",
    "\n",
    "# 去掉第一列编号\n",
    "data = data.iloc[:, 1:]\n",
    "\n",
    "# 只保留数值类型的数据\n",
    "numeric_features = data.select_dtypes(include=[np.number])\n",
    "\n",
    "# 处理缺失值\n",
    "numeric_features.fillna(numeric_features.mean(), inplace=True)\n",
    "\n",
    "# 分离特征和目标变量\n",
    "X = numeric_features.drop('SalePrice', axis=1).values\n",
    "y = numeric_features['SalePrice'].values\n",
    "\n",
    "# 切分数据为训练集和测试集\n",
    "X_train, X_test, y_train, y_test = train_test_split(X, y, test_size=0.2, random_state=42, shuffle=True)\n",
    "\n",
    "# 标准化特征\n",
    "scaler = StandardScaler()\n",
    "X_train = scaler.fit_transform(X_train)\n",
    "X_test = scaler.transform(X_test)\n",
    "\n",
    "# 转换为torch张量\n",
    "X_train = torch.tensor(X_train, dtype=torch.float32)\n",
    "X_test = torch.tensor(X_test, dtype=torch.float32)\n",
    "y_train = torch.tensor(y_train.reshape(-1, 1), dtype=torch.float32)\n",
    "y_test = torch.tensor(y_test.reshape(-1, 1), dtype=torch.float32)"
   ]
  },
  {
   "cell_type": "markdown",
   "metadata": {},
   "source": [
    "### 2.2 构建模型\n",
    "\n",
    "使用一个全连接层加 relu 激活层作为示例，更复杂的网络可以通过修改 Net 类来实现。"
   ]
  },
  {
   "cell_type": "code",
   "execution_count": null,
   "metadata": {},
   "outputs": [],
   "source": [
    "import torch.nn as nn\n",
    "\n",
    "class Net(nn.Module):\n",
    "    def __init__(self, input_features):\n",
    "        super(Net, self).__init__()\n",
    "        self.fc1 = nn.Linear(input_features, 128)\n",
    "        self.fc2 = nn.Linear(128, 1)\n",
    "        self.relu = nn.ReLU()\n",
    "\n",
    "    def forward(self, x):\n",
    "        x = self.relu(self.fc1(x))\n",
    "        x = self.fc2(x) # 回归任务不用激活函数\n",
    "        return x"
   ]
  },
  {
   "cell_type": "markdown",
   "metadata": {},
   "source": [
    "### 2.3 训练与评估\n",
    "\n",
    "由于房价之间的差异巨大，评估预测是否准确时应该考虑相对值的变化，所以使用下面的评估函数：\n",
    "\n",
    "$$\n",
    "\\sqrt{\n",
    "    \\frac{1}{n} \\sum_{i=1}^{n} (\\log y_i - \\log \\hat{y}_i)^2\n",
    "}\n",
    "$$\n",
    "\n",
    "训练模型与评估模型都在这部分\n",
    "\n"
   ]
  },
  {
   "cell_type": "code",
   "execution_count": null,
   "metadata": {},
   "outputs": [],
   "source": [
    "from torch.utils.data import DataLoader, TensorDataset\n",
    "\n",
    "# 参数设置\n",
    "learning_rate, weight_decay, epochs, batch_size = 0.1, 5, 100, 32\n",
    "\n",
    "device = torch.device('npu:0') if torch.npu.is_available() else torch.device('cpu')\n",
    "print(f\"Using device: {device}\")\n",
    "\n",
    "# 实例化模型\n",
    "model = Net(X_train.shape[1]).to(device)\n",
    "\n",
    "# 损失函数\n",
    "criterion = nn.MSELoss()\n",
    "\n",
    "# 优化器\n",
    "optimizer = torch.optim.Adam(model.parameters(), lr= learning_rate, weight_decay=weight_decay)\n",
    "\n",
    "# loss 评估\n",
    "def score(model, X, y):\n",
    "    pred = torch.clamp(model(X), 1, float('inf'))\n",
    "    score = torch.sqrt(criterion(torch.log(pred), torch.log(y)))\n",
    "    \n",
    "    return score.item()\n",
    "\n",
    "# 训练模型\n",
    "train_dataset = TensorDataset(X_train, y_train)\n",
    "train_loader = DataLoader(train_dataset, batch_size=batch_size, shuffle=True)\n",
    "\n",
    "train_ls, test_ls = [], []\n",
    "for epoch in range(epochs):\n",
    "    model.train()\n",
    "    for inputs, targets in train_loader:\n",
    "        inputs, targets = inputs.to(device), targets.to(device)\n",
    "        \n",
    "        # 前向传播\n",
    "        outputs = model(inputs)\n",
    "        loss = criterion(outputs, targets)\n",
    "    \n",
    "        # 反向传播和优化\n",
    "        optimizer.zero_grad()\n",
    "        loss.backward()\n",
    "        optimizer.step()\n",
    "\n",
    "    # 模型评估\n",
    "    model.eval()\n",
    "    with torch.no_grad():\n",
    "        train_ls.append(score(model, X_train.to(device), y_train.to(device)))\n",
    "        test_ls.append(score(model, X_test.to(device), y_test.to(device)))"
   ]
  },
  {
   "cell_type": "code",
   "execution_count": null,
   "metadata": {},
   "outputs": [],
   "source": [
    "from matplotlib import pyplot as plt\n",
    "from matplotlib_inline import backend_inline\n",
    "\n",
    "backend_inline.set_matplotlib_formats('svg')\n",
    "\n",
    "plt.rcParams['figure.figsize'] = (4, 3)\n",
    "\n",
    "plt.plot(list(range(1, epochs + 1)), train_ls, 'b', label='train')\n",
    "plt.plot(list(range(1, epochs + 1)), test_ls, 'r--', label='test')\n",
    "plt.xlabel(\"Epoch\")\n",
    "plt.ylabel(\"Score\")\n",
    "plt.yscale('log')\n",
    "plt.xlim([1, epochs])\n",
    "\n",
    "plt.legend()\n",
    "plt.grid()"
   ]
  },
  {
   "cell_type": "markdown",
   "metadata": {},
   "source": [
    "---\n",
    "\n",
    "> 作者: 黎颖; 褚苙扬; 龙汀汀\n",
    ">\n",
    "> 联系方式: yingliclaire@pku.edu.cn; cly2412307718@stu.pku.edu.cn; l.tingting@pku.edu.cn"
   ]
  }
 ],
 "metadata": {
  "kernelspec": {
   "display_name": "tutorial",
   "language": "python",
   "name": "tutorial"
  },
  "language_info": {
   "codemirror_mode": {
    "name": "ipython",
    "version": 3
   },
   "file_extension": ".py",
   "mimetype": "text/x-python",
   "name": "python",
   "nbconvert_exporter": "python",
   "pygments_lexer": "ipython3",
   "version": "3.9.21"
  }
 },
 "nbformat": 4,
 "nbformat_minor": 4
}
