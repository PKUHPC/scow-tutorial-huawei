{
 "cells": [
  {
   "cell_type": "markdown",
   "metadata": {},
   "source": [
    "# Tutorial5: Bert模型微调\n",
    "\n",
    "本节旨在使用 Hugging Face 官方发布的 bert-base-uncased 模型展示Bert模型微调的过程。\n",
    "\n",
    "分以下几步来实现：\n",
    "1. 环境安装\n",
    "2. 加载模型和数据\n",
    "3. 运行模型微调"
   ]
  },
  {
   "cell_type": "markdown",
   "metadata": {},
   "source": [
    "## 1. 环境安装\n",
    "\n",
    "请确保已经执行了 [tutorial_scow_for_ai](../tutorial_scow_for_ai.md) 中的\"安装依赖、注册ipykernel\"。\n",
    "\n",
    "建议使用1张910B NPU运行本教程。"
   ]
  },
  {
   "cell_type": "markdown",
   "metadata": {},
   "source": [
    "## 2 下载模型和数据\n",
    "\n",
    "通过命令行下载模型和数据。\n",
    "\n",
    "```bash\n",
    "export HF_ENDPOINT=https://hf-mirror.com\n",
    "python -c \"from datasets import load_dataset; raw_datasets = load_dataset('glue', 'mrpc')\"\n",
    "huggingface-cli download --resume-download bert-base-uncased --local-dir ./bert-base-uncased\n",
    "```"
   ]
  },
  {
   "cell_type": "markdown",
   "metadata": {},
   "source": [
    "## 3 运行模型微调\n",
    "```bash\n",
    "python run.py\n",
    "```"
   ]
  },
  {
   "cell_type": "markdown",
   "metadata": {},
   "source": [
    "---\n",
    "\n",
    "> 作者: 黎颖; 褚苙扬; 龙汀汀\n",
    ">\n",
    "> 联系方式: yingliclaire@pku.edu.cn; cly2412307718@stu.pku.edu.cn; l.tingting@pku.edu.cn"
   ]
  }
 ],
 "metadata": {
  "kernelspec": {
   "display_name": "tutorial",
   "language": "python",
   "name": "tutorial"
  },
  "language_info": {
   "codemirror_mode": {
    "name": "ipython",
    "version": 3
   },
   "file_extension": ".py",
   "mimetype": "text/x-python",
   "name": "python",
   "nbconvert_exporter": "python",
   "pygments_lexer": "ipython3",
   "version": "3.9.21"
  }
 },
 "nbformat": 4,
 "nbformat_minor": 2
}
