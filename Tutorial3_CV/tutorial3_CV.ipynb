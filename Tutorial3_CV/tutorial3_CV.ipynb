{
 "cells": [
  {
   "cell_type": "markdown",
   "metadata": {},
   "source": [
    "# Tutorial3: 图像分类2\n",
    "\n",
    "建议在SCOW AI集群运行本教程。\n",
    "\n",
    "本节旨在展示更接近实际的训练场景，使用ResNet18训练cifar数据集，在多块加速卡上做并行。\n",
    "\n",
    "分以下几步来实现：\n",
    "1. 环境安装\n",
    "2. 运行模型训练\n",
    "\n",
    "cifar数据集在代码运行过程中会自动下载。"
   ]
  },
  {
   "cell_type": "markdown",
   "metadata": {},
   "source": [
    "## 1. 环境安装\n",
    "\n",
    "请确保已经执行了 [tutorial_scow_for_ai](../tutorial_scow_for_ai.md) 中的\"安装依赖、注册ipykernel\"。\n",
    "\n",
    "请使用2张910B NPU运行本教程。"
   ]
  },
  {
   "cell_type": "markdown",
   "metadata": {},
   "source": [
    "## 2. 运行模型训练\n",
    "```bash\n",
    "python run.py\n",
    "```"
   ]
  },
  {
   "cell_type": "markdown",
   "metadata": {},
   "source": [
    "---\n",
    "\n",
    "> 作者: 黎颖; 褚苙扬; 龙汀汀\n",
    ">\n",
    "> 联系方式: yingliclaire@pku.edu.cn; cly2412307718@stu.pku.edu.cn; l.tingting@pku.edu.cn"
   ]
  }
 ],
 "metadata": {
  "kernelspec": {
   "display_name": "tutorial",
   "language": "python",
   "name": "python3"
  },
  "language_info": {
   "codemirror_mode": {
    "name": "ipython",
    "version": 3
   },
   "file_extension": ".py",
   "mimetype": "text/x-python",
   "name": "python",
   "nbconvert_exporter": "python",
   "pygments_lexer": "ipython3",
   "version": "3.9.21"
  }
 },
 "nbformat": 4,
 "nbformat_minor": 4
}
