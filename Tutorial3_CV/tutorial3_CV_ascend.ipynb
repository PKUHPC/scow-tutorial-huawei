{
 "cells": [
  {
   "cell_type": "markdown",
   "metadata": {},
   "source": [
    "# Tutorial3: 图像分类2\n",
    "\n",
    "本节旨在展示更接近实际的训练场景，使用ResNet50训练ImageNet数据集，在多块显卡上做并行。\n",
    "\n",
    "分以下几步来实现：\n",
    "1. 环境安装\n",
    "2. 分步运行本文件\n",
    "\n",
    "    2.1 数据加载和预处理\n",
    "\n",
    "    2.2 模型\n",
    "\n",
    "    2.3 训练与评估\n",
    "\n",
    "    2.4 加载模型\n",
    "\n",
    "\n",
    "ImageNet 是一个大型的视觉数据库，由斯坦福大学的李飞飞（Fei-Fei Li）教授及其团队于2009年创建。ImageNet包含了1000个类别总计120万张训练图片，以及5万张验证图片。用户需从 ImageNet 官网自行下载 ImageNet 数据集：https://image-net.org"
   ]
  },
  {
   "cell_type": "markdown",
   "metadata": {},
   "source": [
    "## 1. 环境安装\n",
    "\n",
    "请确保已经执行了 [tutorial_scow_for_ai](../tutorial_scow_for_ai.md) 中的\"安装依赖、注册ipykernel\"。\n",
    "\n",
    "请使用2张910B NPU运行本教程。"
   ]
  },
  {
   "cell_type": "markdown",
   "metadata": {},
   "source": [
    "## 2. 分步运行本文件"
   ]
  },
  {
   "cell_type": "markdown",
   "metadata": {},
   "source": [
    "### 2.1 数据预处理"
   ]
  },
  {
   "cell_type": "code",
   "execution_count": null,
   "metadata": {},
   "outputs": [],
   "source": [
    "import torch\n",
    "from torch import nn\n",
    "import torch_npu\n",
    "import torch.distributed as dist\n",
    "from torch.utils.data import DataLoader\n",
    "import torchvision.transforms as transforms\n",
    "import torchvision.datasets as datasets\n",
    "from torchvision.models import resnet18, ResNet18_Weights\n",
    "import time\n",
    "import os\n",
    "from datetime import timedelta\n",
    "import torch.multiprocessing as mp\n",
    "\n",
    "torch.manual_seed(0)\n",
    "os.environ['MASTER_ADDR'] = '127.0.0.1'\n",
    "os.environ['MASTER_PORT'] = '29500'\n",
    "# 数据预处理\n",
    "train_transforms = transforms.Compose([\n",
    "    transforms.Resize(40),\n",
    "    transforms.RandomResizedCrop(32, scale=(0.64, 1.0), ratio=(1.0, 1.0)),\n",
    "    transforms.RandomHorizontalFlip(),\n",
    "    transforms.RandomRotation(10),\n",
    "    transforms.ToTensor(),\n",
    "    transforms.Normalize(mean=[0.4914, 0.4822, 0.4465], std=[0.2023, 0.1994, 0.2010])\n",
    "])\n",
    "\n",
    "val_transforms = transforms.Compose([\n",
    "    transforms.ToTensor(),\n",
    "    transforms.Normalize(mean=[0.4914, 0.4822, 0.4465], std=[0.2023, 0.1994, 0.2010])\n",
    "])\n",
    "\n",
    "# 加载数据集\n",
    "train_dataset = datasets.CIFAR10(root='./cifar', train=True, download=True, transform=train_transforms)\n",
    "val_dataset = datasets.CIFAR10(root='./cifar', train=False, download=True, transform=val_transforms)\n"
   ]
  },
  {
   "cell_type": "markdown",
   "metadata": {},
   "source": [
    "### 2.2 模型和mainworker\n",
    "\n",
    "ResNet 是由何凯明于 2015 年提出的网络结构，ResNet结构使得网络的层数能够做得更深，对之后的工作有深远的影响。这里我们使用的是PyTorch自带的ResNet-50模型。"
   ]
  },
  {
   "cell_type": "code",
   "execution_count": null,
   "metadata": {},
   "outputs": [],
   "source": [
    "def ddp_setup(rank, world_size):\n",
    "    dist.init_process_group(backend=\"hccl\", rank=rank, world_size=world_size)\n",
    "\n",
    "def main_worker(rank, world_size, batch_size):\n",
    "    ddp_setup(rank, world_size)\n",
    "\n",
    "    torch_npu.npu.set_device(rank)\n",
    "    total_batch_size = batch_size\n",
    "    total_workers = world_size\n",
    "\n",
    "    batch_size = int(total_batch_size / world_size)\n",
    "    workers = int((total_workers + world_size - 1) / world_size)\n",
    "\n",
    "    # 使用 ResNet18 模型\n",
    "    model = resnet18(weights=None, num_classes=10)\n",
    "\n",
    "    loc = f'npu:{rank}'\n",
    "    model = model.to(loc)\n",
    "    criterion = nn.CrossEntropyLoss().to(loc)\n",
    "    optimizer = torch.optim.SGD(model.parameters(), lr=0.1, momentum=0.9, weight_decay=1e-4)\n",
    "\n",
    "    train_sampler = torch.utils.data.distributed.DistributedSampler(train_dataset, num_replicas=world_size, rank=rank)\n",
    "    test_sampler = torch.utils.data.distributed.DistributedSampler(val_dataset, num_replicas=world_size, rank=rank)\n",
    "\n",
    "    train_loader = DataLoader(\n",
    "        train_dataset, batch_size=batch_size, shuffle=False,\n",
    "        num_workers=workers, pin_memory=True, sampler=train_sampler, drop_last=True)\n",
    "\n",
    "    val_loader = DataLoader(\n",
    "        val_dataset, batch_size=batch_size, shuffle=False,\n",
    "        num_workers=workers, pin_memory=True, sampler=test_sampler, drop_last=True)\n",
    "\n",
    "    model = nn.parallel.DistributedDataParallel(model, device_ids=[rank])\n",
    "\n",
    "    for epoch in range(5):\n",
    "        print(f\"Epoch {epoch+1} start\")\n",
    "        train_sampler.set_epoch(epoch)\n",
    "        average_loss, average_load_time, average_train_time = train(train_loader, model, criterion, optimizer, epoch, rank)\n",
    "\n",
    "        # 验证\n",
    "        val_start_time = time.time()\n",
    "        accuracy_dict = accuracy(model, val_loader, loc)\n",
    "        val_end_time = time.time()\n",
    "        average_val_time = timedelta(seconds=val_end_time - val_start_time)\n",
    "\n",
    "        # 输出信息\n",
    "        print(f\"loss: {average_loss:.4f} | test accuracy: {accuracy_dict:.2f}% | load_time: {average_load_time} | train_time: {average_train_time} | val_time: {average_val_time}\")\n",
    "\n",
    "        # 保存模型\n",
    "        if rank == 0:  # 只在主进程中保存模型\n",
    "            os.makedirs('./models', exist_ok=True)\n",
    "            torch.save(model.state_dict(), f'./models/resnet18_epoch_{epoch+1}.pth')\n"
   ]
  },
  {
   "cell_type": "markdown",
   "metadata": {},
   "source": [
    "### 2.3 训练与评估\n",
    "\n",
    "我们需要在多卡上并行训练，这里我们使用的是两张A100显卡。\n",
    "\n",
    "在训练过程中我们增加了学习率调整策略，以加速收敛。\n",
    "\n",
    "完成模型训练和评估需要约 13 h\n",
    "\n",
    "下面版本的代码只能在 GPU 上跑，请申请相应的资源并指定使用的 GPU 数量。\n",
    "\n",
    "这里还实现了一些常用的函数和类，可用于计时和绘图等。"
   ]
  },
  {
   "cell_type": "code",
   "execution_count": null,
   "metadata": {},
   "outputs": [],
   "source": [
    "def train(train_loader, model, criterion, optimizer, epoch, gpu):\n",
    "    model.train()\n",
    "    train_ls = []\n",
    "    load_time = []\n",
    "    train_time = []\n",
    "\n",
    "    for i, (images, target) in enumerate(train_loader):\n",
    "        loc = f'npu:{gpu}'\n",
    "        \n",
    "        # 加载数据\n",
    "        start_load = time.time()\n",
    "        images, target = images.to(loc, non_blocking=True), target.to(loc, non_blocking=True)\n",
    "        end_load = time.time()\n",
    "        load_time.append(end_load - start_load)\n",
    "\n",
    "        # 前向传播和反向传播\n",
    "        start_train = time.time()\n",
    "        optimizer.zero_grad()\n",
    "        output = model(images)\n",
    "        loss = criterion(output, target)\n",
    "        loss.backward()\n",
    "        optimizer.step()\n",
    "        end_train = time.time()\n",
    "        train_time.append(end_train - start_train)\n",
    "\n",
    "        train_ls.append(loss.item())\n",
    "\n",
    "    average_loss = sum(train_ls) / len(train_ls)\n",
    "    average_load_time = timedelta(seconds=sum(load_time))\n",
    "    average_train_time = timedelta(seconds=sum(train_time))\n",
    "\n",
    "    return average_loss, average_load_time, average_train_time\n",
    "\n",
    "def accuracy(model, data_loader, device):\n",
    "    model.eval()\n",
    "    correct, total = 0, 0\n",
    "    with torch.no_grad():\n",
    "        for X, y in data_loader:\n",
    "            X, y = X.to(device), y.to(device)\n",
    "            outputs = model(X)\n",
    "            _, predicted = outputs.max(1)\n",
    "            total += y.size(0)\n",
    "            correct += (predicted == y).sum().item()\n",
    "    return 100 * correct / total\n"
   ]
  },
  {
   "cell_type": "markdown",
   "metadata": {},
   "source": [
    "训练过程"
   ]
  },
  {
   "cell_type": "code",
   "execution_count": null,
   "metadata": {
    "scrolled": true
   },
   "outputs": [],
   "source": [
    "def main():\n",
    "    world_size = torch_npu.npu.device_count()\n",
    "    batch_size = 512\n",
    "    mp.spawn(main_worker, args=(world_size, batch_size), nprocs=world_size, join=True)\n",
    "\n",
    "if __name__ == \"__main__\":\n",
    "    main()"
   ]
  },
  {
   "cell_type": "markdown",
   "metadata": {},
   "source": [
    "### 2.4 加载模型\n",
    "\n",
    "之后可以加载模型参数重复使用模型训练的结果"
   ]
  },
  {
   "cell_type": "code",
   "execution_count": null,
   "metadata": {},
   "outputs": [],
   "source": [
    "import torch\n",
    "import torch_npu\n",
    "import torchvision.models as models\n",
    "\n",
    "# 先确保有一个与之前保存权重相匹配的模型架构\n",
    "model = models.resnet50(pretrained=False)\n",
    "\n",
    "# 加载之前保存的权重\n",
    "state_dict = torch.load(f'./models/resnet50_epoch_{epoch+1}.pth')\n",
    "model.load_state_dict({k.replace('module.',''):v for k,v in state_dict.items()})"
   ]
  },
  {
   "cell_type": "markdown",
   "metadata": {},
   "source": [
    "---\n",
    "\n",
    "> 作者: 黎颖; 褚苙扬; 龙汀汀\n",
    ">\n",
    "> 联系方式: yingliclaire@pku.edu.cn; cly2412307718@stu.pku.edu.cn; l.tingting@pku.edu.cn"
   ]
  }
 ],
 "metadata": {
  "kernelspec": {
   "display_name": "tutorial3",
   "language": "python",
   "name": "python3"
  },
  "language_info": {
   "codemirror_mode": {
    "name": "ipython",
    "version": 3
   },
   "file_extension": ".py",
   "mimetype": "text/x-python",
   "name": "python",
   "nbconvert_exporter": "python",
   "pygments_lexer": "ipython3",
   "version": "3.9.20"
  }
 },
 "nbformat": 4,
 "nbformat_minor": 4
}
